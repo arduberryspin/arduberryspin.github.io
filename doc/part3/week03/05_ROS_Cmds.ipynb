{
 "cells": [
  {
   "cell_type": "code",
   "execution_count": null,
   "metadata": {
    "collapsed": true
   },
   "outputs": [],
   "source": [
    "dcros_cap0-1\n",
    "dcros_cap0-2\n",
    "dcros_cap1\n",
    "dcros_cap2\n",
    "dcros_cap3\n",
    "dcros_cap4\n",
    "dcros_cap5\n",
    "dcros_cap6\n",
    "dcros_cap7\n",
    "dcros_cap8\n",
    "dcros_cap9\n",
    "dcros_cap10\n",
    "dcros_cap11\n",
    "dcros_cap12\n",
    "dcros_cap13\n",
    "dcros_cap14\n",
    "dcros_cap15\n",
    "dcros_cap16\n",
    "dcros_cap17\n",
    "dcros_cap18\n",
    "dcros_cap19\n",
    "dcros_cap20\n",
    "dcros_cap21\n",
    "dcros_cap22\n",
    "dcros_cap23\n",
    "dcros_cap24\n",
    "dcros_cap25\n",
    "dcros_cap26\n",
    "dcros_cap27\n",
    "dcros_cap28\n",
    "dcros_cap29\n",
    "dcros_cap30\n",
    "dcros_cap31\n",
    "dcros_cap32\n",
    "dcros_cap33\n",
    "dcros_cap34"
   ]
  },
  {
   "cell_type": "code",
   "execution_count": null,
   "metadata": {
    "collapsed": true
   },
   "outputs": [],
   "source": [
    "5.1 ROS 명령어 정리"
   ]
  },
  {
   "cell_type": "code",
   "execution_count": null,
   "metadata": {
    "collapsed": true
   },
   "outputs": [],
   "source": [
    "[ROS 쉘 명령어]"
   ]
  },
  {
   "cell_type": "code",
   "execution_count": null,
   "metadata": {
    "collapsed": true
   },
   "outputs": [],
   "source": [
    "roscd (★★★) ros+cd(changes directory) : ROS 패키지 또는 스택의 디렉토리 변경 명령어 rospd (☆☆☆) ros+pushd : ROS 디렉토리 인덱스에 디렉토리 추가\n",
    "rosd (☆☆☆) ros+directory : ROS 디렉토리 인덱스 확인 명령어\n",
    "rosls (★☆☆) ros+ls(lists files) : ROS 패키지의 파일 리스트를 확인하는 명령어\n",
    "rosed (★☆☆) ros+ed(editor) : ROS 패키지의 파일을 편집하는 명령어\n",
    "roscp (☆☆☆) ros+cp(copies files) : ROS 패키지의 파일 복사하는 명령어\n"
   ]
  },
  {
   "cell_type": "code",
   "execution_count": null,
   "metadata": {
    "collapsed": true
   },
   "outputs": [],
   "source": [
    "[ROS 실행 명령어]"
   ]
  },
  {
   "cell_type": "code",
   "execution_count": null,
   "metadata": {
    "collapsed": true
   },
   "outputs": [],
   "source": [
    "roscore (★★★) ros+core : master (ROS 네임 서비스) + rosout (stdout/stderr) + parameter\n",
    "server (매개변수관리)\n",
    "rosrun (★★★) ros+run : 패키지의 노드를 실행하는 명령어\n",
    "roslaunch (★★★) ros+launch : 패키지의 노드를 복수개 실행하는 명령어 rosclean (★☆☆) ros+clean : ros 로그 파일을 체크하거나 삭제하는 명령어\n"
   ]
  },
  {
   "cell_type": "code",
   "execution_count": null,
   "metadata": {
    "collapsed": true
   },
   "outputs": [],
   "source": [
    "[ROS 정보 명령어]"
   ]
  },
  {
   "cell_type": "code",
   "execution_count": null,
   "metadata": {
    "collapsed": true
   },
   "outputs": [],
   "source": [
    "rostopic (★★★) ros+topic : ROS 토픽 정보를 확인하는 명령어\n",
    "rosservice (★★★) ros+service : ROS 서비스 정보를 확인하는 명령어\n",
    "rosnode (★★★) ros+node : ROS의 노드 정보를 얻는 명령어\n",
    "rosparam (★★★) ros+param(parameter) : ROS 파라미터 정보를 확인, 수정 가능한 명령어 rosmsg (★★☆) ros+msg : ROS 메세지 선언 정보를 확인하는 명령어\n",
    "rossrv (★★☆) ros+srv : ROS 서비스 선언 정보를 확인하는 명령어\n",
    "roswtf (☆☆☆) ros+wtf : ROS 시스템을 검사하는 명령어\n",
    "rosversion (★☆☆) ros+version : ros 패키및 배포 릴리즈 버전의 정보를 확인하는 명령어 rosbag (★★★) ros+bag : ROS 메세지를 기록, 재생하는 명령어"
   ]
  },
  {
   "cell_type": "code",
   "execution_count": null,
   "metadata": {
    "collapsed": true
   },
   "outputs": [],
   "source": [
    "[ROS 캐킨 명령어]"
   ]
  },
  {
   "cell_type": "code",
   "execution_count": null,
   "metadata": {
    "collapsed": true
   },
   "outputs": [],
   "source": [
    "catkin_create_pkg (★★★) 캐킨 빌드 시스템에 의한 패키지 자동 생성\n",
    "catkin_eclipse (★★☆) 캐킨 빌드 시스템에 의해 생성된 패키지를 이클립스에서 사용할 수\n",
    "있도록 변경하는 명령어\n",
    "catkin_find (☆☆☆) 캐킨 검색\n",
    "catkin_generate_changelog (☆☆☆) 캐킨 변경로그 생성 catkin_init_workspace (★☆☆) 캐킨 빌드 시스템의 작업폴더 초기화 catkin_make (★★★) 캐킨 빌드 시스템을 기반으로한 빌드 명령어\n",
    "[ROS 패키지 명령어]\n",
    "rosmake (☆☆☆) ros+make : ROS package 를 빌드한다. (구 ROS 빌드 시스템에서 사용됨) rosinstall (★☆☆) ros+install : ROS 추가 패키지 설치 명령어\n",
    "roslocate (☆☆☆) ros+locate : ROS 패키지 정보 관련 명령어\n",
    "roscreate-pkg (☆☆☆) ros+create-pkg : ROS 패키지를 자동 생성하는 명령어 (구 ROS 빌드\n",
    "시스템에서 사용됨)\n",
    "rosdep (★☆☆) ros+dep(endencies) : 해당 패키지의 의존성 파일들을 설치하는 명령어 rospack (★★☆) ros+pack(age) : ROS 패키지와 관련된 정보를 알아보는 명령어\n"
   ]
  },
  {
   "cell_type": "code",
   "execution_count": null,
   "metadata": {
    "collapsed": true
   },
   "outputs": [],
   "source": [
    "5.2 ROS 쉘 명령어"
   ]
  },
  {
   "cell_type": "code",
   "execution_count": null,
   "metadata": {
    "collapsed": true
   },
   "outputs": [],
   "source": [
    "ROS 쉘 명령어는 일명 rosbash2라고 부른다. 이는 리눅스에서 일반적으로 사용하는 bash 쉘 명령어를 ROS에서 사용하는 방법이다. 주로 ros 라는 접두사에 cd, pd, d, ls, ed, cp, run 등의 접미사를 붙여서 사용하게 된다."
   ]
  },
  {
   "cell_type": "code",
   "execution_count": null,
   "metadata": {
    "collapsed": true
   },
   "outputs": [],
   "source": [
    "5.2.1 roscd : ROS 디렉토리 이동"
   ]
  },
  {
   "cell_type": "code",
   "execution_count": null,
   "metadata": {
    "collapsed": true
   },
   "outputs": [],
   "source": [
    "roscd [패키지이름]"
   ]
  },
  {
   "cell_type": "code",
   "execution_count": null,
   "metadata": {
    "collapsed": true
   },
   "outputs": [],
   "source": [
    "$ roscd turtlesim"
   ]
  },
  {
   "cell_type": "code",
   "execution_count": null,
   "metadata": {
    "collapsed": true
   },
   "outputs": [],
   "source": [
    "\n",
    "5.2.2 rosls : ROS 리스트 파일"
   ]
  },
  {
   "cell_type": "code",
   "execution_count": null,
   "metadata": {
    "collapsed": true
   },
   "outputs": [],
   "source": [
    "rosls [패키지이름]"
   ]
  },
  {
   "cell_type": "code",
   "execution_count": null,
   "metadata": {
    "collapsed": true
   },
   "outputs": [],
   "source": [
    "$ rosls turtlesim"
   ]
  },
  {
   "cell_type": "code",
   "execution_count": null,
   "metadata": {
    "collapsed": true
   },
   "outputs": [],
   "source": [
    "\n",
    "5.2.3 rosed : ROS 편집 명령어"
   ]
  },
  {
   "cell_type": "code",
   "execution_count": null,
   "metadata": {
    "collapsed": true
   },
   "outputs": [],
   "source": [
    "rosed [패키지이름] [파일이름]"
   ]
  },
  {
   "cell_type": "code",
   "execution_count": null,
   "metadata": {
    "collapsed": true
   },
   "outputs": [],
   "source": [
    "$ rosed turtlesim package.xml"
   ]
  },
  {
   "cell_type": "code",
   "execution_count": null,
   "metadata": {
    "collapsed": true
   },
   "outputs": [],
   "source": [
    "5.3 ROS 실행 명령어"
   ]
  },
  {
   "cell_type": "code",
   "execution_count": null,
   "metadata": {
    "collapsed": true
   },
   "outputs": [],
   "source": [
    "ROS 실행 명령어3는 ROS 노드의 실행을 주관한다. 무엇보다 필수는 roscore로 노드간의 네 임 서버로 사용된다. 그리고 실행명령어로는 rosrun 및 roslaunch가 있다."
   ]
  },
  {
   "cell_type": "code",
   "execution_count": null,
   "metadata": {
    "collapsed": true
   },
   "outputs": [],
   "source": [
    "5.3.1 roscore : ROS 코어 실행"
   ]
  },
  {
   "cell_type": "code",
   "execution_count": null,
   "metadata": {
    "collapsed": true
   },
   "outputs": [],
   "source": [
    "roscore [옵션]"
   ]
  },
  {
   "cell_type": "code",
   "execution_count": null,
   "metadata": {
    "collapsed": true
   },
   "outputs": [],
   "source": [
    "\n",
    "$ roscore"
   ]
  },
  {
   "cell_type": "code",
   "execution_count": null,
   "metadata": {
    "collapsed": true
   },
   "outputs": [],
   "source": [
    "5.3.2 rosrun : ROS 노드 실행"
   ]
  },
  {
   "cell_type": "code",
   "execution_count": null,
   "metadata": {
    "collapsed": true
   },
   "outputs": [],
   "source": [
    "rosrun [패키지이름] [노드이름]"
   ]
  },
  {
   "cell_type": "code",
   "execution_count": null,
   "metadata": {
    "collapsed": true
   },
   "outputs": [],
   "source": [
    "\n",
    "$ rosrun turtlesim turtlesim_node"
   ]
  },
  {
   "cell_type": "code",
   "execution_count": null,
   "metadata": {
    "collapsed": true
   },
   "outputs": [],
   "source": [
    "5.3.3 roslaunch : ROS 노드 복수 실행"
   ]
  },
  {
   "cell_type": "code",
   "execution_count": null,
   "metadata": {
    "collapsed": true
   },
   "outputs": [],
   "source": [
    "roslaunch [패키지이름] [런치파일명]"
   ]
  },
  {
   "cell_type": "code",
   "execution_count": null,
   "metadata": {
    "collapsed": true
   },
   "outputs": [],
   "source": [
    "sudo apt-get update\n",
    "sudo apt-get install ros-indigo-openni-launch"
   ]
  },
  {
   "cell_type": "code",
   "execution_count": null,
   "metadata": {
    "collapsed": true
   },
   "outputs": [],
   "source": [
    "\n",
    "$ roslaunch openni_launch openni.launch"
   ]
  },
  {
   "cell_type": "code",
   "execution_count": null,
   "metadata": {
    "collapsed": true
   },
   "outputs": [],
   "source": [
    "5.3.4 rosclean : ROS 로그 파일 삭제"
   ]
  },
  {
   "cell_type": "code",
   "execution_count": null,
   "metadata": {
    "collapsed": true
   },
   "outputs": [],
   "source": [
    "rosclean [옵션]"
   ]
  },
  {
   "cell_type": "code",
   "execution_count": null,
   "metadata": {
    "collapsed": true
   },
   "outputs": [],
   "source": [
    "$ roslaunch openni_launch openni.launch"
   ]
  },
  {
   "cell_type": "code",
   "execution_count": null,
   "metadata": {
    "collapsed": true
   },
   "outputs": [],
   "source": [
    "￼￼￼$ rosclean check  #사용량 체크"
   ]
  },
  {
   "cell_type": "code",
   "execution_count": null,
   "metadata": {
    "collapsed": true
   },
   "outputs": [],
   "source": [
    "$ rosclean purge  #로그 삭제"
   ]
  },
  {
   "cell_type": "code",
   "execution_count": null,
   "metadata": {
    "collapsed": true
   },
   "outputs": [],
   "source": [
    "5.4 ROS 정보 명령어"
   ]
  },
  {
   "cell_type": "code",
   "execution_count": null,
   "metadata": {
    "collapsed": true
   },
   "outputs": [],
   "source": [
    "ROS 정보 명령어는 토픽, 서비스, 노드, 매개변수 등의 정보를 확인하는데 사용되는 명령 어로 매우 빈번히 사용되는 명령어군이다. 특히, rostopic, rosservice, rosnode, rosparam는 매우 빈번히 사용되며, rosbag 는 ROS의 큰 특징중에 하나인 데이터 기록, 재생 기능을 갖춘 명령어이므로 꼭 알아두고 활용하도록 하자."
   ]
  },
  {
   "cell_type": "code",
   "execution_count": null,
   "metadata": {
    "collapsed": true
   },
   "outputs": [],
   "source": [
    "5.4.1 노드 실행"
   ]
  },
  {
   "cell_type": "code",
   "execution_count": null,
   "metadata": {
    "collapsed": true
   },
   "outputs": [],
   "source": [
    "roscore 실행"
   ]
  },
  {
   "cell_type": "code",
   "execution_count": null,
   "metadata": {
    "collapsed": true
   },
   "outputs": [],
   "source": [
    "$ roscore"
   ]
  },
  {
   "cell_type": "code",
   "execution_count": null,
   "metadata": {
    "collapsed": true
   },
   "outputs": [],
   "source": [
    "turtlesim 패키지의 turtlesim_node 노드 실행"
   ]
  },
  {
   "cell_type": "code",
   "execution_count": null,
   "metadata": {
    "collapsed": true
   },
   "outputs": [],
   "source": [
    "$ rosrun turtlesim turtlesim_node"
   ]
  },
  {
   "cell_type": "code",
   "execution_count": null,
   "metadata": {
    "collapsed": true
   },
   "outputs": [],
   "source": [
    "turtlesim 패키지의 turtle_teleop_key 노드 실행"
   ]
  },
  {
   "cell_type": "code",
   "execution_count": null,
   "metadata": {
    "collapsed": true
   },
   "outputs": [],
   "source": [
    "$ rosrun turtlesim turtle_teleop_key"
   ]
  },
  {
   "cell_type": "code",
   "execution_count": null,
   "metadata": {
    "collapsed": true
   },
   "outputs": [],
   "source": [
    "5.4.2 rosnode : ROS 노드"
   ]
  },
  {
   "cell_type": "code",
   "execution_count": null,
   "metadata": {
    "collapsed": true
   },
   "outputs": [],
   "source": [
    "rosnode list : 활성화된 노드의 목록 확인\n",
    "rosnode ping 노드이름 : 지정된 노드와의 연결 테스트\n",
    "rosnode info 노드이름 : 지정된 노드의 정보 확인\n",
    "rosnode machine PC이름 또는 IP : 해당 PC에서 실행되고 있는 노드 목록 확인 rosnode kill 노드이름 : 지정된 노드 실행 중단\n",
    "rosnode cleanup : 연결 정보가 확인 안 되는 유령 노드의 등록 정보 삭제\n"
   ]
  },
  {
   "cell_type": "code",
   "execution_count": null,
   "metadata": {
    "collapsed": true
   },
   "outputs": [],
   "source": [
    "rosnodelist:활성화된노드의목록확인"
   ]
  },
  {
   "cell_type": "code",
   "execution_count": null,
   "metadata": {
    "collapsed": true
   },
   "outputs": [],
   "source": [
    "$ rosnode list"
   ]
  },
  {
   "cell_type": "code",
   "execution_count": null,
   "metadata": {
    "collapsed": true
   },
   "outputs": [],
   "source": [
    "rosnodeping[노드이름]:지정된노드와의연결테스트"
   ]
  },
  {
   "cell_type": "code",
   "execution_count": null,
   "metadata": {
    "collapsed": true
   },
   "outputs": [],
   "source": [
    "$ rosnode ping /turtlesim"
   ]
  },
  {
   "cell_type": "code",
   "execution_count": null,
   "metadata": {
    "collapsed": true
   },
   "outputs": [],
   "source": [
    "rosnodeinfo[노드이름]:지정된노드의정보확인"
   ]
  },
  {
   "cell_type": "code",
   "execution_count": null,
   "metadata": {
    "collapsed": true
   },
   "outputs": [],
   "source": [
    "$ rosnode info /turtlesim"
   ]
  },
  {
   "cell_type": "code",
   "execution_count": null,
   "metadata": {
    "collapsed": true
   },
   "outputs": [],
   "source": [
    "rosnodemachine[PC이름또는IP]:해당PC에서실행되고있는노드목록확인"
   ]
  },
  {
   "cell_type": "code",
   "execution_count": null,
   "metadata": {
    "collapsed": true
   },
   "outputs": [],
   "source": [
    "$ rosnode machine 192.168.4.185"
   ]
  },
  {
   "cell_type": "code",
   "execution_count": null,
   "metadata": {
    "collapsed": true
   },
   "outputs": [],
   "source": [
    "rosnodekill[노드이름]:지정된노드실행종료\n"
   ]
  },
  {
   "cell_type": "code",
   "execution_count": null,
   "metadata": {
    "collapsed": true
   },
   "outputs": [],
   "source": [
    "$ rosnode kill /turtlesim"
   ]
  },
  {
   "cell_type": "code",
   "execution_count": null,
   "metadata": {
    "collapsed": true
   },
   "outputs": [],
   "source": [
    "rosnodecleanup:연결정보가확인안되는유령노드의등록정보삭제"
   ]
  },
  {
   "cell_type": "code",
   "execution_count": null,
   "metadata": {
    "collapsed": true
   },
   "outputs": [],
   "source": [
    "$ rosnode cleanup"
   ]
  },
  {
   "cell_type": "code",
   "execution_count": null,
   "metadata": {
    "collapsed": true
   },
   "outputs": [],
   "source": [
    "5.4.3 rostopic : ROS 토픽"
   ]
  },
  {
   "cell_type": "code",
   "execution_count": null,
   "metadata": {
    "collapsed": true
   },
   "outputs": [],
   "source": [
    "rostopic list : 활성화된 토픽의 목록을 표시한다\n",
    "rostopic echo 토픽이름 : 지정한 토픽의 메시지 내용을 실시간으로 표시한다\n",
    "rostopic find 타입이름 : 지정한 타입의 메시지를 사용하는 토픽을 표시한다\n",
    "rostopic type 토픽이름 : 지정한 토픽의 메시지 타입을 표시한다\n",
    "rostopic bw 토픽이름 : 지정한 토픽의 메시지 데이터 대역폭(bandwidth)을 표시한다 rostopic hz 토픽이름 : 지정한 토픽의 메세지 데이터 발행주기를 표시한다\n",
    "rostopic info 토픽이름 : 지정한 토픽의 정보를 표시한다\n",
    "rostopic pub 토픽이름 메시지타입 매개변수 : 지정한 토픽의 이름으로 메시지를 발행한다\n"
   ]
  },
  {
   "cell_type": "code",
   "execution_count": null,
   "metadata": {
    "collapsed": true
   },
   "outputs": [],
   "source": [
    "￼￼￼$ roscore\n",
    "$ rosrun turtlesim turtlesim_node\n",
    "$ rosrun turtlesim turtle_teleop_key"
   ]
  },
  {
   "cell_type": "code",
   "execution_count": null,
   "metadata": {
    "collapsed": true
   },
   "outputs": [],
   "source": [
    "rostopiclist:활성화된토픽의목록을표시한다"
   ]
  },
  {
   "cell_type": "code",
   "execution_count": null,
   "metadata": {
    "collapsed": true
   },
   "outputs": [],
   "source": [
    "$ rostopic list"
   ]
  },
  {
   "cell_type": "code",
   "execution_count": null,
   "metadata": {
    "collapsed": true
   },
   "outputs": [],
   "source": [
    "$ rostopic list −v"
   ]
  },
  {
   "cell_type": "code",
   "execution_count": null,
   "metadata": {
    "collapsed": true
   },
   "outputs": [],
   "source": [
    "rostopicecho[토픽이름]:지정한토픽의메시지내용을실시간으로표시한다"
   ]
  },
  {
   "cell_type": "code",
   "execution_count": null,
   "metadata": {
    "collapsed": true
   },
   "outputs": [],
   "source": [
    "$ rostopic echo /turtle1/pose"
   ]
  },
  {
   "cell_type": "code",
   "execution_count": null,
   "metadata": {
    "collapsed": true
   },
   "outputs": [],
   "source": [
    "5.4.4 rosservice : ROS 서비스"
   ]
  },
  {
   "cell_type": "code",
   "execution_count": null,
   "metadata": {
    "collapsed": true
   },
   "outputs": [],
   "source": [
    "rosservice list : 활성화된 서비스에 대한 정보를 출력한다\n",
    "rosservice type 서비스이름 : 서비스 타입을 출력한다\n",
    "rosservice find 서비스타입 : 지정한 서비스 타입의 서비스를 검색한다 rosservice uri 서비스이름 : ROSRPC uri 서비스를 출력한다\n",
    "rosservice args 서비스이름 : 서비스 매개변수 출력\n",
    "rosservice call 서비스이름 매개변수 : 입력된 매개변수로 서비스를 요청한다"
   ]
  },
  {
   "cell_type": "code",
   "execution_count": null,
   "metadata": {
    "collapsed": true
   },
   "outputs": [],
   "source": [
    "rosservicelist:활성화된서비스에대한정보를출력한다"
   ]
  },
  {
   "cell_type": "code",
   "execution_count": null,
   "metadata": {
    "collapsed": true
   },
   "outputs": [],
   "source": [
    "$ rosservice list"
   ]
  },
  {
   "cell_type": "code",
   "execution_count": null,
   "metadata": {
    "collapsed": true
   },
   "outputs": [],
   "source": [
    "rosservicetype[서비스이름]:서비스타입을출력한다."
   ]
  },
  {
   "cell_type": "code",
   "execution_count": null,
   "metadata": {
    "collapsed": true
   },
   "outputs": [],
   "source": [
    "$ rosservice type /turtle1/set_pen"
   ]
  },
  {
   "cell_type": "code",
   "execution_count": null,
   "metadata": {
    "collapsed": true
   },
   "outputs": [],
   "source": [
    "rosserviceuri[서비스이름]:ROSRPCuri서비스를출력한다"
   ]
  },
  {
   "cell_type": "code",
   "execution_count": null,
   "metadata": {
    "collapsed": true
   },
   "outputs": [],
   "source": [
    "￼￼$ rosservice uri /turtle1/set_pen"
   ]
  },
  {
   "cell_type": "code",
   "execution_count": null,
   "metadata": {
    "collapsed": true
   },
   "outputs": [],
   "source": [
    "rosserviceargs[서비스이름]:서비스매개변수출력"
   ]
  },
  {
   "cell_type": "code",
   "execution_count": null,
   "metadata": {
    "collapsed": true
   },
   "outputs": [],
   "source": [
    "￼￼$ rosservice args /turtle1/set_pen"
   ]
  },
  {
   "cell_type": "code",
   "execution_count": null,
   "metadata": {
    "collapsed": true
   },
   "outputs": [],
   "source": [
    "rosservicecall[서비스이름][매개변수]:입력된매개변수로서비스를요청한다"
   ]
  },
  {
   "cell_type": "code",
   "execution_count": null,
   "metadata": {
    "collapsed": true
   },
   "outputs": [],
   "source": [
    "$ rosservice call /turtle1/set_pen 255 0 0 5 0"
   ]
  }
 ],
 "metadata": {
  "kernelspec": {
   "display_name": "Python 2",
   "language": "python",
   "name": "python2"
  },
  "language_info": {
   "codemirror_mode": {
    "name": "ipython",
    "version": 2
   },
   "file_extension": ".py",
   "mimetype": "text/x-python",
   "name": "python",
   "nbconvert_exporter": "python",
   "pygments_lexer": "ipython2",
   "version": "2.7.6"
  }
 },
 "nbformat": 4,
 "nbformat_minor": 0
}
