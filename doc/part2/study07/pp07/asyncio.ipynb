{
 "cells": [
  {
   "cell_type": "code",
   "execution_count": 2,
   "metadata": {
    "collapsed": false
   },
   "outputs": [
    {
     "name": "stdout",
     "output_type": "stream",
     "text": [
      "Downloading mathjax source from https://github.com/mathjax/MathJax/archive/2.4.0.tar.gz\n",
      "Extracting to C:\\Users\\Sim\\.ipython\\nbextensions\\mathjax\n"
     ]
    },
    {
     "data": {
      "text/plain": [
       "0"
      ]
     },
     "execution_count": 2,
     "metadata": {},
     "output_type": "execute_result"
    }
   ],
   "source": [
    "from IPython.external import mathjax; mathjax.install_mathjax()"
   ]
  },
  {
   "cell_type": "markdown",
   "metadata": {},
   "source": [
    "# Asynchronous I/O\n",
    "\n",
    "여기서는\n",
    "\n",
    "* Blocking, Non-blocking and asynchronous operations에 대한 설명\n",
    "* Understanding event loop\n",
    "* 이것을 지원하는 python 3.4 패키지중의 하나인 asyncio에 대해서 설명 및 예제를 설명합니다."
   ]
  },
  {
   "cell_type": "markdown",
   "metadata": {},
   "source": [
    "## Blocking, Non-blocking and asynchronous operations\n",
    "\n",
    "어떤 함수를 실행시킬때\n",
    "\n",
    "* 결과를 받을때까지 기다리는게 Blocking\n",
    "* 준비된 결과까지만을 받는게 Non-blocking, 경험상으로는 일시키고 나는 하던 일 계속하는 것.\n",
    "* 결과가 준비된 순간에 사용자의 의해서 등록된 처리 함수를 수행하는 것, Asynchronous"
   ]
  },
  {
   "cell_type": "markdown",
   "metadata": {},
   "source": [
    "## Event Loop\n",
    "\n",
    "내가 만약 여러 어떤 것들(예를 들어, 여러 파일을 동시에 접근하려고 할때 같은 경우)을 사용하려고 할때, 일반적으로 시스템은 그들을 '실제로' 동시에 접속할 수 없다.\n",
    "\n",
    "즉, 사용할 준비가 되면, 그때 사용해야 한다. \n",
    "\n",
    "이렇게 내가 사용하고자 하는 어떤 Resource가 내가 원하는 준비가 되었다는 정보를 가지고 있고, 사용자는 이 정보를 계속 체크하므로써, 준비된 시점에 사용하는 방식을 'Event Loop'라고 부른다.\n",
    "\n",
    "Socket Programming에서 서버 구현 방식에서 흔히 쓰이는 패턴이다.\n",
    "\n",
    "* Echo Server 예제"
   ]
  },
  {
   "cell_type": "markdown",
   "metadata": {
    "collapsed": true
   },
   "source": [
    "### Event Loop을 지원하는 API\n",
    "\n",
    "* select() : 감시할 수 있는 리소스의 개수가 제한되어 있다. O(n)\n",
    "* poll() : select()함수의 확장판, 리소스의 개수가 꽤 크다. O(n)\n",
    "* epoll() : poll()함수보다 더 좋다. O(1)으로 찾아서 알려준다. 단 linux에서만 지원한다.\n",
    "* kqueue() : BSD 또는 Mac OS X의 epoll()함수 버젼이다.\n",
    "\n",
    "epoll의 설명 : http://www.joinc.co.kr/modules/moniwiki/wiki.php/Site/Network_Programing/AdvancedComm/epoll24"
   ]
  },
  {
   "cell_type": "markdown",
   "metadata": {},
   "source": [
    "### Event Loop는 꽤 많은데서 사용하고 있다.\n",
    "\n",
    "* Tornado Web Server \n",
    "* Twisted\n",
    "* asyncio\n",
    "* Gevent\n",
    "* Eventlet\n",
    "* Node.JS\n",
    "\n",
    "등등"
   ]
  },
  {
   "cell_type": "markdown",
   "metadata": {},
   "source": [
    "## Asyncio\n",
    "\n",
    "Python에서 asynchronous programming을 할 수 있도록 지원해주는 패키지이다. 파이썬의 창시자인 귀도 반 로썸과 그 외의 몇명의 참여자로 시작된 패키지이며, Python 3.4부터는 정식 패키지로 지원이 된다.\n",
    "\n",
    "AsyncIO는 다음과 같은 요소들을 사용하여 프로그래밍 한다.\n",
    "\n",
    "* Event Loop \n",
    "* Coroutine : (제가 생각하기에) 가장 중요한 개념. 정식 문서에서는  \"A coroutine is a generator that follows certain conventions.\" 라고 설명함, 특정 동작이 완료 될때까지 (예를 들어, 디스크에서 지정된 만큼 데이터를 가져올때까지) 기다리고 있다가, 해당 동작이 완료되면, 기다림이 시작된 위치의 다음 라인으로 와서 계속됨 (yield의 동작을 생각해보자!!)\n",
    "* Future : 이 녀석은 아직 완료되지 않은 처리의 상태를 나타내는 class, 사실 Future는 concurrent 패키지의 Future를 가져와 AsyncIO에 적합하게한 Class이다.\n",
    "* Tasks : 이것은 coroutine의 스케쥴을 관리하는 클래스. 만일 하나의 coroutine이 waiting상태면, 다른 coroutine이 실행된다.\n",
    "\n",
    "Reference : https://docs.python.org/3/library/asyncio.html\n",
    "\n",
    "Reference : https://speakerdeck.com/devunt/python3-dot-4-asyncio"
   ]
  },
  {
   "cell_type": "markdown",
   "metadata": {},
   "source": [
    "### 백문이 불여일견"
   ]
  },
  {
   "cell_type": "code",
   "execution_count": 1,
   "metadata": {
    "collapsed": true
   },
   "outputs": [],
   "source": [
    "import asyncio\n",
    "\n",
    "@asyncio.coroutine\n",
    "def sleep_coroutine(f):\n",
    "    yield from asyncio.sleep(2)\n",
    "    f.set_result('Done!')\n",
    "    \n",
    "future = asyncio.Future()\n",
    "loop = asyncio.get_event_loop()\n",
    "loop.run_until_complete(sleep_coroutine(future)) # run event loop"
   ]
  },
  {
   "cell_type": "code",
   "execution_count": 3,
   "metadata": {
    "collapsed": false
   },
   "outputs": [
    {
     "name": "stdout",
     "output_type": "stream",
     "text": [
      "[Task-A] coroutine will sleep for 10 second(s)…\n",
      "[Task-B] coroutine will sleep for 1 second(s)…\n",
      "[Task-C] coroutine will sleep for 1 second(s)…\n",
      "[Task-B] done!\n",
      "[Task-C] done!\n",
      "[Task-A] done!\n"
     ]
    },
    {
     "data": {
      "text/plain": [
       "[None, None, None]"
      ]
     },
     "execution_count": 3,
     "metadata": {},
     "output_type": "execute_result"
    }
   ],
   "source": [
    "@asyncio.coroutine \n",
    "def sleep_coro(name, seconds=1):    \n",
    "    print(\"[%s] coroutine will sleep for %d second(s)…\" % (name, seconds))    \n",
    "    yield from asyncio.sleep(seconds)    \n",
    "    print(\"[%s] done!\" % name) \n",
    "    \n",
    "tasks = [asyncio.Task(sleep_coro('Task-A', 10)),                \n",
    "         asyncio.Task(sleep_coro('Task-B')),                \n",
    "         asyncio.Task(sleep_coro('Task-C'))]    \n",
    "loop.run_until_complete(asyncio.gather(*tasks))"
   ]
  },
  {
   "cell_type": "code",
   "execution_count": 6,
   "metadata": {
    "collapsed": false
   },
   "outputs": [
    {
     "name": "stdout",
     "output_type": "stream",
     "text": [
      "[Task-A] coroutine will sleep for 10 second(s)…\n",
      "[Task-B] coroutine will sleep for 1 second(s)…\n",
      "[Task-C] coroutine will sleep for 1 second(s)…\n",
      "[Task-C] done!\n",
      "[Task-B] done!\n",
      "[Task-A] done!\n"
     ]
    }
   ],
   "source": [
    "import time\n",
    "\n",
    "@asyncio.coroutine \n",
    "def sleep_coro(name, loop, seconds=1):    \n",
    "    future = loop.run_in_executor(None, time.sleep, seconds)\n",
    "    print(\"[%s] coroutine will sleep for %d second(s)…\" % (name, seconds))    \n",
    "    yield from future\n",
    "    print(\"[%s] done!\" % name) \n",
    "    \n",
    "loop = asyncio.get_event_loop()\n",
    "tasks = [asyncio.Task(sleep_coro('Task-A', loop, 10)),                \n",
    "         asyncio.Task(sleep_coro('Task-B', loop)),                \n",
    "         asyncio.Task(sleep_coro('Task-C', loop))]    \n",
    "loop.run_until_complete(asyncio.gather(*tasks))\n",
    "loop.close()"
   ]
  }
 ],
 "metadata": {
  "kernelspec": {
   "display_name": "Python 3",
   "language": "python",
   "name": "python3"
  },
  "language_info": {
   "codemirror_mode": {
    "name": "ipython",
    "version": 3
   },
   "file_extension": ".py",
   "mimetype": "text/x-python",
   "name": "python",
   "nbconvert_exporter": "python",
   "pygments_lexer": "ipython3",
   "version": "3.4.1"
  }
 },
 "nbformat": 4,
 "nbformat_minor": 0
}
