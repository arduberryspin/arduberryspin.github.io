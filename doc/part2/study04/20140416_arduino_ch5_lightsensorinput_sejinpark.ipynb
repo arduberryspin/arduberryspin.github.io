{
 "cells": [
  {
   "cell_type": "markdown",
   "metadata": {},
   "source": [
    "# 5장 입력"
   ]
  },
  {
   "cell_type": "raw",
   "metadata": {},
   "source": [
    "자연광\n",
    "거리측정\n",
    "초음파 거리측정\n",
    "진동측정\n",
    "직선상위치측정\n",
    "압력측정\n",
    "구부러진상태측정\n",
    "온도측정\n",
    "기울기측정\n",
    "움직임감지\n",
    "방위각\n",
    "사람의움직임감지\n",
    "접촉상태감지\n",
    "터치패널사용"
   ]
  },
  {
   "cell_type": "markdown",
   "metadata": {},
   "source": [
    "## 1. 자연광의 밝기를 재려면"
   ]
  },
  {
   "cell_type": "markdown",
   "metadata": {},
   "source": [
    "### Cds 셀을 이용해 자연광의 밝기를 간단히 측정 "
   ]
  },
  {
   "cell_type": "markdown",
   "metadata": {},
   "source": [
    "### 포토 레지스터   :  CdS"
   ]
  },
  {
   "cell_type": "raw",
   "metadata": {},
   "source": [
    "받는 빛의 세기 증가하면 전기저항이 낮아지는 부품. \n",
    "(=빛 의존성 저항 , 고도전체, 포토셀)\n",
    "\n",
    "빛의 세기에 따라 저항값이 변하는 CdS 셀과 저항기 한개를 조합 - 저항값의 변화를 전압의 변화로 바꾼다. "
   ]
  },
  {
   "cell_type": "markdown",
   "metadata": {},
   "source": [
    "#### 주변의 빛이 밝으면 LED를 어둡게. 어두우면 LED를 밝게 켜는 예제. "
   ]
  },
  {
   "cell_type": "raw",
   "metadata": {},
   "source": [
    "    아두이노보드 : 1개\n",
    "    저항기 :  2개 330옴, 10k옴\n",
    "    브레드보드 :  1개\n",
    "    LED : 1개\n",
    "    점프선 : 적당량\n",
    "    Cds : 1개 "
   ]
  },
  {
   "cell_type": "code",
   "execution_count": null,
   "metadata": {
    "collapsed": true
   },
   "outputs": [],
   "source": [
    "#include <LiquidCrystal.h>\n",
    "\n",
    "// sensorPin은 CdS 셀에 연결한 핀(0번 핀)\n",
    "const int sensorPin = 0 ;\n",
    "\n",
    "// ledPin은 LED에 연결한 핀 : 9번 핀\n",
    "const int ledPin = 9 ;\n",
    "\n",
    "//LCD객체 \n",
    "LiquidCrystal lcd(12, 11, 5, 4, 3, 2);\n",
    "\n",
    "void setup() {\n",
    "    //ledPin을 출력으로 설정 \n",
    "    pinMode(ledPin, OUTPUT)\n",
    "    //LCD의 열수와 행수를 설정\n",
    "    lcd.begin(16, 2);\n",
    "}\n",
    "\n",
    "\n",
    "void loop() {\n",
    "    //밝기를 읽음  \n",
    "    int brightness = analogRead(sensorPin);\n",
    "    \n",
    "    //LCD화면을 지운 후에 읽어들인 밝기를 표시. \n",
    "    lcd.setCursor(0, 0);\n",
    "    lcd.setCursor(0, 0);\n",
    "    lcd.clear();\n",
    "    lcd.print(\"CdS: \")\n",
    "    lcd.print(brightness);\n",
    "    \n",
    "    //센서값(0~1023)을 LED 밝기(0~255)로 변환\n",
    "    int intensity = map(brightness, 0, 1023, 255, 0);\n",
    "\n",
    "    //LED의 밝기를 표시 \n",
    "    lcd.setCursor(0,1);\n",
    "    lcd.print(\"LED: \");\n",
    "    lcd.print(intensity);\n",
    "\n",
    "    //ledPin에 밝기의 값을 설정 \n",
    "    analogWrite(ledPin, intensity);\n",
    "\n",
    "    //100ms동안 대기. \n",
    "    delay(100);\n",
    "}"
   ]
  },
  {
   "cell_type": "code",
   "execution_count": null,
   "metadata": {
    "collapsed": true
   },
   "outputs": [],
   "source": [
    "# LCD 없이 실행하는 예제.\n",
    "const int sensorPin = 0 ;\n",
    "const int ledPin = 9 ;\n",
    "void setup(){\n",
    "     pinMode(ledPin, OUTPUT);\n",
    "}\n",
    "void loop(){\n",
    "     int brightness = analogRead(sensorPin);\n",
    "     int intensity = map(brightness , 0, 1023, 255, 0);\n",
    "     Serial.println(\"intensity : \" + intensity);\n",
    "     analogWrite(ledPin, intensity);\n",
    "     delay(100);\n",
    "}"
   ]
  }
 ],
 "metadata": {
  "kernelspec": {
   "display_name": "Python 2",
   "language": "python",
   "name": "python2"
  },
  "language_info": {
   "codemirror_mode": {
    "name": "ipython",
    "version": 2
   },
   "file_extension": ".py",
   "mimetype": "text/x-python",
   "name": "python",
   "nbconvert_exporter": "python",
   "pygments_lexer": "ipython2",
   "version": "2.7.9"
  }
 },
 "nbformat": 4,
 "nbformat_minor": 0
}
