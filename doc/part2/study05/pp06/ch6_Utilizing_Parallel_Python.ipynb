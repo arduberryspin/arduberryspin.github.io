{
 "cells": [
  {
   "cell_type": "markdown",
   "metadata": {},
   "source": [
    "# Chapter 6: Utilizing Parallel Python\t"
   ]
  },
  {
   "cell_type": "markdown",
   "metadata": {},
   "source": [
    "* Parallel Programming with Python\n",
    "* 김무성"
   ]
  },
  {
   "cell_type": "markdown",
   "metadata": {},
   "source": [
    "# Contents"
   ]
  },
  {
   "cell_type": "markdown",
   "metadata": {},
   "source": [
    "* Understanding interprocess communication\t\n",
    "    - Exploring named pipes\t\n",
    "    - Using named pipes with Python\t\n",
    "        - Writing in a named pipe\t\n",
    "        - Reading named pipes\t\n",
    "* Discovering PP\t\n",
    "* Using PP to calculate the Fibonacci series term on SMP architecture\t\n",
    "* Using PP to make a distributed Web crawler\t\n",
    "* Summary"
   ]
  },
  {
   "cell_type": "markdown",
   "metadata": {},
   "source": [
    "# Understanding interprocess communication"
   ]
  },
  {
   "cell_type": "markdown",
   "metadata": {},
   "source": [
    "* Exploring named pipes\n",
    "* Using named pipes with Python"
   ]
  },
  {
   "cell_type": "markdown",
   "metadata": {},
   "source": [
    "### 기본 개념"
   ]
  },
  {
   "cell_type": "markdown",
   "metadata": {},
   "source": [
    "* Interprocess communication (<font color=\"red\">IPC</font>) consists of mechanisms that allow the exchange\n",
    "of information among processes.\n",
    "* When processes are physically distributed in clusters, for instance, we could use sockets and Remote Procedure\n",
    "Call (<font color=\"red\">RPC</font>).\n",
    "* In Chapter 5, Using Multiprocessing and ProcessPoolExecutor, we verified the use\n",
    "of <font color=\"red\">regular pipes</font> among other things. \n",
    "* We also studied the communication among processes that have a <font color=\"red\">common parent process</font>. * But, sometimes it is necessary to perform <font color=\"red\">communication between unrelated processes</font> (processes with different parent processes). \n",
    "* we must use mechanisms called <font color=\"red\">named pipes</font>"
   ]
  },
  {
   "cell_type": "markdown",
   "metadata": {},
   "source": [
    "## Exploring named pipes"
   ]
  },
  {
   "cell_type": "markdown",
   "metadata": {},
   "source": [
    "* Within the POSIX systems, such as Linux, <font color=\"red\">we should keep in mind that everything, absolutely everything, can be summed up to files</font>. For each task we perform, there is a file somewhere, and we can also find a <font color=\"red\">file descriptor</font> attached to it, which allows us to manipulate these files.\n",
    "* Named pipes are nothing but mechanisms that allow IPC communication through the use of file descriptors associated with special files that implement, for instance, a First-In, First-Out (<font color=\"red\">FIFO</font>) scheme <font color=\"red\">for writing and reading the data</font>.\n",
    "* While the <font color=\"red\">named pipes make use of the file descriptors and special files in a file system</font>, regular pipes are created in memory."
   ]
  },
  {
   "cell_type": "markdown",
   "metadata": {},
   "source": [
    "## Using named pipes with Python"
   ]
  },
  {
   "cell_type": "markdown",
   "metadata": {},
   "source": [
    "* Writing in a named pipe\n",
    "* Reading named pipes"
   ]
  },
  {
   "cell_type": "markdown",
   "metadata": {},
   "source": [
    "### Writing in a named pipe"
   ]
  },
  {
   "cell_type": "code",
   "execution_count": 9,
   "metadata": {
    "collapsed": true
   },
   "outputs": [],
   "source": [
    "import os"
   ]
  },
  {
   "cell_type": "code",
   "execution_count": 10,
   "metadata": {
    "collapsed": true
   },
   "outputs": [],
   "source": [
    "def write_message(input_pipe, message):\n",
    "    fd = os.open(input_pipe, os.O_WRONLY)\n",
    "    s = \"%s from pid [%d]\" %(message, os.getpid())\n",
    "    os.write(fd, (s)) \n",
    "    os.close(fd)"
   ]
  },
  {
   "cell_type": "code",
   "execution_count": 11,
   "metadata": {
    "collapsed": false
   },
   "outputs": [],
   "source": [
    "named_pipe = \"my_pipe\"\n",
    "if not os.path.exists(named_pipe):\n",
    "    os.mkfifo(named_pipe)"
   ]
  },
  {
   "cell_type": "code",
   "execution_count": 12,
   "metadata": {
    "collapsed": false
   },
   "outputs": [
    {
     "name": "stdout",
     "output_type": "stream",
     "text": [
      "ch6_Utilizing_Parallel_Python.ipynb  read_from_pipe.py\r\n",
      "\u001b[0m\u001b[40;33mmy_pipe\u001b[0m|                             write_to_named_pipe.py\r\n"
     ]
    }
   ],
   "source": [
    "%ls"
   ]
  },
  {
   "cell_type": "markdown",
   "metadata": {},
   "source": [
    "### Reading named pipes"
   ]
  },
  {
   "cell_type": "code",
   "execution_count": 13,
   "metadata": {
    "collapsed": false
   },
   "outputs": [],
   "source": [
    "def read_message(input_pipe):\n",
    "    fd = os.open(input_pipe, os.O_RDONLY)\n",
    "    message = (\n",
    "        \"I pid [%d] received a message => %s\"\n",
    "        % (os.getpid(), os.read(fd, 22)))\n",
    "        \n",
    "    os.close(fd)\n",
    "    \n",
    "    return message"
   ]
  },
  {
   "cell_type": "markdown",
   "metadata": {},
   "source": [
    "<img src='figures/eg_pipe.png' width=600 />"
   ]
  },
  {
   "cell_type": "markdown",
   "metadata": {},
   "source": [
    "###  run !"
   ]
  },
  {
   "cell_type": "code",
   "execution_count": 1,
   "metadata": {
    "collapsed": false
   },
   "outputs": [
    {
     "name": "stdout",
     "output_type": "stream",
     "text": [
      "import os\r\n",
      "\r\n",
      "def write_message(input_pipe, message):\r\n",
      "    fd = os.open(input_pipe, os.O_WRONLY)\r\n",
      "    s = \"%s from pid [%d]\" %(message, os.getpid())\r\n",
      "    os.write(fd, (s)) \r\n",
      "    os.close(fd)\r\n",
      "\r\n",
      "\r\n",
      "if __name__ == '__main__' :\r\n",
      "    named_pipe = \"my_pipe\"\r\n",
      "    if not os.path.exists(named_pipe):\r\n",
      "        os.mkfifo(named_pipe)\r\n",
      "\r\n",
      "    write_message(named_pipe, 'hello')\r\n",
      "\r\n",
      "\r\n",
      "\r\n"
     ]
    }
   ],
   "source": [
    "%cat write_to_named_pipe.py"
   ]
  },
  {
   "cell_type": "code",
   "execution_count": 3,
   "metadata": {
    "collapsed": false
   },
   "outputs": [
    {
     "name": "stdout",
     "output_type": "stream",
     "text": [
      "import os\r\n",
      "\r\n",
      "def read_message(input_pipe):\r\n",
      "    fd = os.open(input_pipe, os.O_RDONLY)\r\n",
      "    message = (\r\n",
      "        \"I pid [%d] received a message => %s\"\r\n",
      "        % (os.getpid(), os.read(fd, 22)))\r\n",
      "        \r\n",
      "    os.close(fd)\r\n",
      "    \r\n",
      "    return message\r\n",
      "\r\n",
      "\r\n",
      "if __name__ == '__main__' :\r\n",
      "    named_pipe = \"my_pipe\"\r\n",
      "\r\n",
      "    msg = read_message(named_pipe)\r\n",
      "    print msg\r\n",
      "    \r\n",
      "\r\n",
      "\r\n"
     ]
    }
   ],
   "source": [
    "%cat read_from_pipe.py"
   ]
  },
  {
   "cell_type": "markdown",
   "metadata": {},
   "source": [
    "# Discovering PP"
   ]
  },
  {
   "cell_type": "markdown",
   "metadata": {},
   "source": [
    "* Now, we will use a Python module, PP, to establish IPC communication not only <font color=\"red\">among\n",
    "local processes</font>, but also <font color=\"red\">physically distributed throughout a computer network</font>."
   ]
  },
  {
   "cell_type": "markdown",
   "metadata": {},
   "source": [
    "### PP(Parallel Python)"
   ]
  },
  {
   "cell_type": "markdown",
   "metadata": {},
   "source": [
    "* Parallel Python - http://www.parallelpython.com/\n",
    "* The most important advantage of using PP is the abstraction that this module\n",
    "provides. Some important features of PP are as follows:\n",
    "    - Automatic detection of number of processors to improve load balance\n",
    "    - Many processors allocated can be changed at runtime\n",
    "    - <font color=\"red\">Load balance at runtime\n",
    "    - <font color=\"red\">Auto-discovery resources throughout the network\n",
    "* The PP module implements the execution of <font color=\"red\">parallel code in two ways</font>. \n",
    "    - The first way considers the <font color=\"red\">SMP architecture</font>, where there are multiple processors/cores in <font color=\"red\">the same machine</font>. \n",
    "    - The second alternative would be <font color=\"red\">distributing the tasks through machines in a network</font>, configuring, and thus <font color=\"red\">forming a cluster</font>. "
   ]
  },
  {
   "cell_type": "markdown",
   "metadata": {},
   "source": [
    "#### 참고 : Quick start guide"
   ]
  },
  {
   "cell_type": "markdown",
   "metadata": {},
   "source": [
    "* http://www.parallelpython.com/content/view/15/30/"
   ]
  },
  {
   "cell_type": "markdown",
   "metadata": {},
   "source": [
    "### 참고 : install"
   ]
  },
  {
   "cell_type": "markdown",
   "metadata": {},
   "source": [
    "> pip install http://www.parallelpython.com/downloads/pp/pp-1.6.4.tar.gz"
   ]
  },
  {
   "cell_type": "markdown",
   "metadata": {},
   "source": [
    "# Using PP to calculate the Fibonacci series term on SMP architecture"
   ]
  },
  {
   "cell_type": "code",
   "execution_count": 17,
   "metadata": {
    "collapsed": false
   },
   "outputs": [],
   "source": [
    "import os, pp"
   ]
  },
  {
   "cell_type": "code",
   "execution_count": 18,
   "metadata": {
    "collapsed": true
   },
   "outputs": [],
   "source": [
    "input_list = [4, 3, 8, 6, 10]\n",
    "result_dict = {}"
   ]
  },
  {
   "cell_type": "code",
   "execution_count": 19,
   "metadata": {
    "collapsed": true
   },
   "outputs": [],
   "source": [
    "def fibo_task(value):\n",
    "    a, b = 0, 1\n",
    "    for item in range(value):\n",
    "        a, b = b, a + b\n",
    "    message = \"the fibonacci calculated by pid %d was %d\" \\\n",
    "        % (os.getpid(), a)\n",
    "    return (value, message)"
   ]
  },
  {
   "cell_type": "code",
   "execution_count": 20,
   "metadata": {
    "collapsed": true
   },
   "outputs": [],
   "source": [
    "def aggregate_results(result):\n",
    "    print \"Computing results with PID [%d]\" % os.getpid()\n",
    "    result_dict[result[0]] = result[1]"
   ]
  },
  {
   "cell_type": "code",
   "execution_count": 21,
   "metadata": {
    "collapsed": false
   },
   "outputs": [
    {
     "name": "stdout",
     "output_type": "stream",
     "text": [
      "Computing results with PID [10604]\n",
      "Computing results with PID [10604]\n",
      "Computing results with PID [10604]\n",
      "Computing results with PID [10604]\n",
      "Computing results with PID [10604]\n"
     ]
    }
   ],
   "source": [
    "job_server = pp.Server()\n",
    "for item in input_list:\n",
    "    job_server.submit(fibo_task, (item,), modules=('os',), callback=aggregate_results)\n",
    "  \n",
    "job_server.wait()"
   ]
  },
  {
   "cell_type": "code",
   "execution_count": 22,
   "metadata": {
    "collapsed": false
   },
   "outputs": [
    {
     "name": "stdout",
     "output_type": "stream",
     "text": [
      "Main process PID [10604]\n",
      "For input 8, the fibonacci calculated by pid 11054 was 21\n",
      "For input 10, the fibonacci calculated by pid 11053 was 55\n",
      "For input 3, the fibonacci calculated by pid 11053 was 2\n",
      "For input 4, the fibonacci calculated by pid 11052 was 3\n",
      "For input 6, the fibonacci calculated by pid 11052 was 8\n"
     ]
    }
   ],
   "source": [
    "print \"Main process PID [%d]\" % os.getpid() \n",
    "for key, value in result_dict.items():\n",
    "    print \"For input %d, %s\" % (key, value)"
   ]
  },
  {
   "cell_type": "markdown",
   "metadata": {},
   "source": [
    "# Using PP to make a distributed Web crawler"
   ]
  },
  {
   "cell_type": "markdown",
   "metadata": {},
   "source": [
    "### 책의 예제에서 분산 서버 환경"
   ]
  },
  {
   "cell_type": "markdown",
   "metadata": {},
   "source": [
    "* Iceman-Thinkad-X220: Ubuntu 13.10\n",
    "* Iceman-Q47OC-500P4C: Ubuntu 12.04 LTS\n",
    "* Asgard-desktop: Elementary OS"
   ]
  },
  {
   "cell_type": "markdown",
   "metadata": {},
   "source": [
    "### code"
   ]
  },
  {
   "cell_type": "code",
   "execution_count": 2,
   "metadata": {
    "collapsed": false
   },
   "outputs": [],
   "source": [
    "import os, re, requests, pp"
   ]
  },
  {
   "cell_type": "code",
   "execution_count": 3,
   "metadata": {
    "collapsed": true
   },
   "outputs": [],
   "source": [
    "url_list = ['http://www.google.com/', 'http://gizmodo.uol.com.br/',\n",
    "            'https://github.com/', 'http://br.search.yahoo.com/',\n",
    "           ]"
   ]
  },
  {
   "cell_type": "code",
   "execution_count": 4,
   "metadata": {
    "collapsed": true
   },
   "outputs": [],
   "source": [
    "result_dict = {}"
   ]
  },
  {
   "cell_type": "code",
   "execution_count": 5,
   "metadata": {
    "collapsed": true
   },
   "outputs": [],
   "source": [
    "def aggregate_results(result):\n",
    "    print \"Computing results in main process PID [%d]\" % os.getpid()\n",
    "    message = \"PID %d in hostname [%s] the following links were found: %s\"\\\n",
    "        % (result[2], result[3], result[1])\n",
    "    result_dict[result[0]] = message"
   ]
  },
  {
   "cell_type": "code",
   "execution_count": 6,
   "metadata": {
    "collapsed": true
   },
   "outputs": [],
   "source": [
    "def crawl_task(url):\n",
    "    html_link_regex = \\\n",
    "        re.compile('<a\\s(?:.*?\\s)*?href=[\\'\"](.*?)[\\'\"].*?>')\n",
    "    \n",
    "    request_data = requests.get(url)\n",
    "    #limit to the first 03 links\n",
    "    links = html_link_regex.findall(request_data.text)[:3]\n",
    "    return (url, links, os.getpid(), os.uname()[1])"
   ]
  },
  {
   "cell_type": "markdown",
   "metadata": {},
   "source": [
    "### 실습을 위해 우선 단일 컴퓨터 환경에서."
   ]
  },
  {
   "cell_type": "code",
   "execution_count": null,
   "metadata": {
    "collapsed": false
   },
   "outputs": [],
   "source": [
    "# ppservers = (\"192.168.25.21\", \"192.168.25.9\")\n",
    "ppservers = ('*',) \n",
    "job_dispatcher = pp.Server(ncpus=1, ppservers=ppservers, socket_timeout=60000)\n",
    "for url in url_list:\n",
    "    job_dispatcher.submit(crawl_task, (url,),\n",
    "        modules=('os', 're', 'requests',),\n",
    "            callback=aggregate_results)\n",
    "    \n",
    "job_dispatcher.wait()\n",
    "\n",
    "for key, value in result_dict.items():\n",
    "    print \"** For url %s, %s\\n\" % (key, value)\n",
    "    \n",
    "print job_dispatcher.print_stats()"
   ]
  },
  {
   "cell_type": "markdown",
   "metadata": {},
   "source": [
    "### 책의 예제에 나온 환경일 경우"
   ]
  },
  {
   "cell_type": "markdown",
   "metadata": {},
   "source": [
    "<img src=\"figures/eg_crawler_1.png\" />"
   ]
  },
  {
   "cell_type": "markdown",
   "metadata": {},
   "source": [
    "<img src=\"figures/eg_crawler_2.png\" />"
   ]
  },
  {
   "cell_type": "markdown",
   "metadata": {},
   "source": [
    "<img src=\"figures/eg_crawler_3.png\" />"
   ]
  },
  {
   "cell_type": "markdown",
   "metadata": {},
   "source": [
    "# run !"
   ]
  },
  {
   "cell_type": "code",
   "execution_count": 2,
   "metadata": {
    "collapsed": false
   },
   "outputs": [
    {
     "name": "stdout",
     "output_type": "stream",
     "text": [
      "Computing results in main process PID [12035]\n",
      "Computing results in main process PID [12035]\n",
      "/home/moosung/.venv/abs/lib/python2.7/site-packages/requests/packages/urllib3/util/ssl_.py:79: InsecurePlatformWarning: A true SSLContext object is not available. This prevents urllib3 from configuring SSL appropriately and may cause certain SSL connections to fail. For more information, see https://urllib3.readthedocs.org/en/latest/security.html#insecureplatformwarning.\n",
      "  InsecurePlatformWarning\n",
      "Computing results in main process PID [12035]\n",
      "Computing results in main process PID [12035]\n",
      "** For url http://br.search.yahoo.com/, PID 12201 in hostname [moosung-com] the following links were found: [u'https://br.yahoo.com/', u'https://mail.yahoo.com/?.intl=br&.lang=pt-BR', u'https://br.noticias.yahoo.com/']\n",
      "\n",
      "** For url http://gizmodo.uol.com.br/, PID 12201 in hostname [moosung-com] the following links were found: [u'http://trivela.uol.com.br/', u'http://extratime.uol.com.br/', u'http://gizmodo.uol.com.br/']\n",
      "\n",
      "** For url https://github.com/, PID 12201 in hostname [moosung-com] the following links were found: [u'#start-of-content', u'https://github.com/', u'/join']\n",
      "\n",
      "** For url http://www.google.com/, PID 12201 in hostname [moosung-com] the following links were found: [u'http://www.google.co.kr/imghp?hl=ko&tab=wi', u'http://maps.google.co.kr/maps?hl=ko&tab=wl', u'https://play.google.com/?hl=ko&tab=w8']\n",
      "\n",
      "Job execution statistics:\n",
      " job count | % of all jobs | job time sum | time per job | job server\n",
      "         4 |        100.00 |       5.5457 |     1.386427 | local\n",
      "Time elapsed since server creation 5.57815504074\n",
      "0 active tasks, 1 cores\n",
      "\n",
      "None\n"
     ]
    }
   ],
   "source": [
    "%run web_crawler_pp_cluster.py"
   ]
  },
  {
   "cell_type": "markdown",
   "metadata": {},
   "source": [
    "# Summary"
   ]
  },
  {
   "cell_type": "markdown",
   "metadata": {},
   "source": [
    "# 참고자료"
   ]
  },
  {
   "cell_type": "markdown",
   "metadata": {},
   "source": [
    "* [1] Parallel Programming with Python - http://www.amazon.com/Parallel-Programming-Python-Jan-Palach/dp/1505492092\n",
    "* [2] Parallel Python - http://www.parallelpython.com/"
   ]
  }
 ],
 "metadata": {
  "kernelspec": {
   "display_name": "Python 2",
   "language": "python",
   "name": "python2"
  },
  "language_info": {
   "codemirror_mode": {
    "name": "ipython",
    "version": 2
   },
   "file_extension": ".py",
   "mimetype": "text/x-python",
   "name": "python",
   "nbconvert_exporter": "python",
   "pygments_lexer": "ipython2",
   "version": "2.7.3"
  }
 },
 "nbformat": 4,
 "nbformat_minor": 0
}
